{
 "cells": [
  {
   "cell_type": "code",
   "execution_count": 1,
   "id": "a0597fa8-4cd0-4ac9-a185-26fa8eaa0ef4",
   "metadata": {},
   "outputs": [],
   "source": [
    "import pandas as pd"
   ]
  },
  {
   "cell_type": "code",
   "execution_count": 2,
   "id": "b29596b3-674f-400c-9e0b-733e05f2f746",
   "metadata": {},
   "outputs": [
    {
     "name": "stdout",
     "output_type": "stream",
     "text": [
      "(1225978, 24)\n"
     ]
    }
   ],
   "source": [
    "df = pd.read_csv('D://Projects//picksy//db-loader//datasets//raw//movie.csv')\n",
    "print(df.shape)"
   ]
  },
  {
   "cell_type": "code",
   "execution_count": 3,
   "id": "14a0b46b-2514-44db-ba55-3cf690e90483",
   "metadata": {},
   "outputs": [
    {
     "name": "stdout",
     "output_type": "stream",
     "text": [
      "Index(['id', 'title', 'vote_average', 'vote_count', 'status', 'release_date',\n",
      "       'revenue', 'runtime', 'adult', 'backdrop_path', 'budget', 'homepage',\n",
      "       'imdb_id', 'original_language', 'original_title', 'overview',\n",
      "       'popularity', 'poster_path', 'tagline', 'genres',\n",
      "       'production_companies', 'production_countries', 'spoken_languages',\n",
      "       'keywords'],\n",
      "      dtype='object')\n"
     ]
    }
   ],
   "source": [
    "print(df.columns)"
   ]
  },
  {
   "cell_type": "code",
   "execution_count": 4,
   "id": "4da62c2d-42bf-43ba-9573-5ea636e9489b",
   "metadata": {},
   "outputs": [],
   "source": [
    "df.drop(['vote_average', 'vote_count', 'status','backdrop_path','imdb_id', 'popularity', 'poster_path', 'tagline', 'keywords', 'spoken_languages'], axis=1, inplace=True)"
   ]
  },
  {
   "cell_type": "code",
   "execution_count": 5,
   "id": "30a84457-54c3-4576-b31b-913b8f4496cc",
   "metadata": {},
   "outputs": [
    {
     "name": "stdout",
     "output_type": "stream",
     "text": [
      "Index(['id', 'title', 'release_date', 'revenue', 'runtime', 'adult', 'budget',\n",
      "       'homepage', 'original_language', 'original_title', 'overview', 'genres',\n",
      "       'production_companies', 'production_countries'],\n",
      "      dtype='object')\n"
     ]
    }
   ],
   "source": [
    "# check:\n",
    "print(df.columns)"
   ]
  },
  {
   "cell_type": "code",
   "execution_count": 6,
   "id": "defcfe6b-9356-49cd-9e42-19db2bd0e872",
   "metadata": {},
   "outputs": [
    {
     "data": {
      "text/html": [
       "<div>\n",
       "<style scoped>\n",
       "    .dataframe tbody tr th:only-of-type {\n",
       "        vertical-align: middle;\n",
       "    }\n",
       "\n",
       "    .dataframe tbody tr th {\n",
       "        vertical-align: top;\n",
       "    }\n",
       "\n",
       "    .dataframe thead th {\n",
       "        text-align: right;\n",
       "    }\n",
       "</style>\n",
       "<table border=\"1\" class=\"dataframe\">\n",
       "  <thead>\n",
       "    <tr style=\"text-align: right;\">\n",
       "      <th></th>\n",
       "      <th>id</th>\n",
       "      <th>title</th>\n",
       "      <th>release_date</th>\n",
       "      <th>revenue</th>\n",
       "      <th>runtime</th>\n",
       "      <th>adult</th>\n",
       "      <th>budget</th>\n",
       "      <th>homepage</th>\n",
       "      <th>original_language</th>\n",
       "      <th>original_title</th>\n",
       "      <th>overview</th>\n",
       "      <th>genres</th>\n",
       "      <th>production_companies</th>\n",
       "      <th>production_countries</th>\n",
       "    </tr>\n",
       "  </thead>\n",
       "  <tbody>\n",
       "    <tr>\n",
       "      <th>0</th>\n",
       "      <td>27205</td>\n",
       "      <td>Inception</td>\n",
       "      <td>2010-07-15</td>\n",
       "      <td>825532764</td>\n",
       "      <td>148</td>\n",
       "      <td>False</td>\n",
       "      <td>160000000</td>\n",
       "      <td>https://www.warnerbros.com/movies/inception</td>\n",
       "      <td>en</td>\n",
       "      <td>Inception</td>\n",
       "      <td>Cobb, a skilled thief who commits corporate es...</td>\n",
       "      <td>Action, Science Fiction, Adventure</td>\n",
       "      <td>Legendary Pictures, Syncopy, Warner Bros. Pict...</td>\n",
       "      <td>United Kingdom, United States of America</td>\n",
       "    </tr>\n",
       "    <tr>\n",
       "      <th>1</th>\n",
       "      <td>157336</td>\n",
       "      <td>Interstellar</td>\n",
       "      <td>2014-11-05</td>\n",
       "      <td>701729206</td>\n",
       "      <td>169</td>\n",
       "      <td>False</td>\n",
       "      <td>165000000</td>\n",
       "      <td>http://www.interstellarmovie.net/</td>\n",
       "      <td>en</td>\n",
       "      <td>Interstellar</td>\n",
       "      <td>The adventures of a group of explorers who mak...</td>\n",
       "      <td>Adventure, Drama, Science Fiction</td>\n",
       "      <td>Legendary Pictures, Syncopy, Lynda Obst Produc...</td>\n",
       "      <td>United Kingdom, United States of America</td>\n",
       "    </tr>\n",
       "  </tbody>\n",
       "</table>\n",
       "</div>"
      ],
      "text/plain": [
       "       id         title release_date    revenue  runtime  adult     budget  \\\n",
       "0   27205     Inception   2010-07-15  825532764      148  False  160000000   \n",
       "1  157336  Interstellar   2014-11-05  701729206      169  False  165000000   \n",
       "\n",
       "                                      homepage original_language  \\\n",
       "0  https://www.warnerbros.com/movies/inception                en   \n",
       "1            http://www.interstellarmovie.net/                en   \n",
       "\n",
       "  original_title                                           overview  \\\n",
       "0      Inception  Cobb, a skilled thief who commits corporate es...   \n",
       "1   Interstellar  The adventures of a group of explorers who mak...   \n",
       "\n",
       "                               genres  \\\n",
       "0  Action, Science Fiction, Adventure   \n",
       "1   Adventure, Drama, Science Fiction   \n",
       "\n",
       "                                production_companies  \\\n",
       "0  Legendary Pictures, Syncopy, Warner Bros. Pict...   \n",
       "1  Legendary Pictures, Syncopy, Lynda Obst Produc...   \n",
       "\n",
       "                       production_countries  \n",
       "0  United Kingdom, United States of America  \n",
       "1  United Kingdom, United States of America  "
      ]
     },
     "execution_count": 6,
     "metadata": {},
     "output_type": "execute_result"
    }
   ],
   "source": [
    "df.head(2)"
   ]
  },
  {
   "cell_type": "code",
   "execution_count": 7,
   "id": "3634aa59-d892-43df-8c5c-fc3cf3b0d796",
   "metadata": {},
   "outputs": [],
   "source": [
    "# Identify duplicate rows\n",
    "duplicate_rows = df[df.duplicated(keep=False)]"
   ]
  },
  {
   "cell_type": "code",
   "execution_count": 8,
   "id": "bdf962fa-ea05-465e-a6fb-6b389640980b",
   "metadata": {},
   "outputs": [
    {
     "name": "stdout",
     "output_type": "stream",
     "text": [
      "(1225051, 14)\n"
     ]
    }
   ],
   "source": [
    "# remove duplicate key\n",
    "df = df.drop_duplicates(subset=['id'], keep='first')\n",
    "print(df.shape)"
   ]
  },
  {
   "cell_type": "code",
   "execution_count": 22,
   "id": "f008dbcf-df07-4b3d-bfa3-4db2ba865daa",
   "metadata": {},
   "outputs": [
    {
     "data": {
      "text/plain": [
       "id                      False\n",
       "title                    True\n",
       "release_date             True\n",
       "revenue                 False\n",
       "runtime                 False\n",
       "adult                   False\n",
       "budget                  False\n",
       "homepage                 True\n",
       "original_language       False\n",
       "original_title           True\n",
       "overview                 True\n",
       "genres                   True\n",
       "production_companies     True\n",
       "production_countries     True\n",
       "dtype: bool"
      ]
     },
     "execution_count": 22,
     "metadata": {},
     "output_type": "execute_result"
    }
   ],
   "source": [
    "# check columns has na values\n",
    "df.isna().any()"
   ]
  },
  {
   "cell_type": "code",
   "execution_count": 36,
   "id": "28184858-54ce-42a2-983b-41d14a97f985",
   "metadata": {},
   "outputs": [
    {
     "name": "stdout",
     "output_type": "stream",
     "text": [
      "0\n",
      "225335\n",
      "225335\n"
     ]
    }
   ],
   "source": [
    "print(df['title'].isna().sum())\n",
    "print(df['release_date'].isnull().sum())\n",
    "print(df['release_date'].isna().sum())"
   ]
  },
  {
   "cell_type": "code",
   "execution_count": 32,
   "id": "fb5bec2d-55d1-4b9d-a168-a08c6294354f",
   "metadata": {},
   "outputs": [
    {
     "name": "stdout",
     "output_type": "stream",
     "text": [
      "(1225038, 14)\n"
     ]
    }
   ],
   "source": [
    "df = df[df['title'].notna()]\n",
    "print(df.shape)"
   ]
  },
  {
   "cell_type": "code",
   "execution_count": 34,
   "id": "bce42df7-65c0-46fa-a13f-c861e87df21a",
   "metadata": {
    "scrolled": true
   },
   "outputs": [
    {
     "data": {
      "text/plain": [
       "id                      False\n",
       "title                   False\n",
       "release_date             True\n",
       "revenue                 False\n",
       "runtime                 False\n",
       "adult                   False\n",
       "budget                  False\n",
       "homepage                 True\n",
       "original_language       False\n",
       "original_title          False\n",
       "overview                 True\n",
       "genres                   True\n",
       "production_companies     True\n",
       "production_countries     True\n",
       "dtype: bool"
      ]
     },
     "execution_count": 34,
     "metadata": {},
     "output_type": "execute_result"
    }
   ],
   "source": [
    "df.isna().any()"
   ]
  },
  {
   "cell_type": "code",
   "execution_count": null,
   "id": "3a722eab-e69b-4cc7-bfd3-6026925f407a",
   "metadata": {},
   "outputs": [],
   "source": []
  }
 ],
 "metadata": {
  "kernelspec": {
   "display_name": "Python [conda env:base] *",
   "language": "python",
   "name": "conda-base-py"
  },
  "language_info": {
   "codemirror_mode": {
    "name": "ipython",
    "version": 3
   },
   "file_extension": ".py",
   "mimetype": "text/x-python",
   "name": "python",
   "nbconvert_exporter": "python",
   "pygments_lexer": "ipython3",
   "version": "3.12.7"
  }
 },
 "nbformat": 4,
 "nbformat_minor": 5
}
